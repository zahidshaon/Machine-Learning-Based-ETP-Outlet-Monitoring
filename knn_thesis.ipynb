{
  "nbformat": 4,
  "nbformat_minor": 0,
  "metadata": {
    "colab": {
      "name": "knn_thesis.ipynb",
      "provenance": []
    },
    "kernelspec": {
      "name": "python3",
      "display_name": "Python 3"
    }
  },
  "cells": [
    {
      "cell_type": "code",
      "metadata": {
        "id": "YbeZgMXVeDr-"
      },
      "source": [
        "import pandas as pd\r\n",
        "import seaborn as sns\r\n",
        "import matplotlib.pyplot as plt\r\n",
        "import numpy as np\r\n",
        "%matplotlib inline\r\n",
        "from sklearn.preprocessing import StandardScaler\r\n",
        "import seaborn as sns\r\n",
        "import warnings\r\n",
        "warnings.filterwarnings('ignore')"
      ],
      "execution_count": null,
      "outputs": []
    },
    {
      "cell_type": "code",
      "metadata": {
        "colab": {
          "base_uri": "https://localhost:8080/",
          "height": 455
        },
        "id": "F4-32d-beaXM",
        "outputId": "7a369315-039b-495a-e349-2f594b29be8c"
      },
      "source": [
        "df1 = pd.read_csv(\"/content/ETP.csv\",index_col=0)\r\n",
        "df1"
      ],
      "execution_count": null,
      "outputs": [
        {
          "output_type": "execute_result",
          "data": {
            "text/html": [
              "<div>\n",
              "<style scoped>\n",
              "    .dataframe tbody tr th:only-of-type {\n",
              "        vertical-align: middle;\n",
              "    }\n",
              "\n",
              "    .dataframe tbody tr th {\n",
              "        vertical-align: top;\n",
              "    }\n",
              "\n",
              "    .dataframe thead th {\n",
              "        text-align: right;\n",
              "    }\n",
              "</style>\n",
              "<table border=\"1\" class=\"dataframe\">\n",
              "  <thead>\n",
              "    <tr style=\"text-align: right;\">\n",
              "      <th></th>\n",
              "      <th>Temperature</th>\n",
              "      <th>pH</th>\n",
              "      <th>DO</th>\n",
              "      <th>Turbidity(V)</th>\n",
              "      <th>TDS</th>\n",
              "      <th>EC</th>\n",
              "      <th>WQI</th>\n",
              "      <th>Normalised WQI</th>\n",
              "      <th>WQC</th>\n",
              "      <th>Numeric_WQC</th>\n",
              "      <th>Verdict</th>\n",
              "    </tr>\n",
              "    <tr>\n",
              "      <th>Date</th>\n",
              "      <th></th>\n",
              "      <th></th>\n",
              "      <th></th>\n",
              "      <th></th>\n",
              "      <th></th>\n",
              "      <th></th>\n",
              "      <th></th>\n",
              "      <th></th>\n",
              "      <th></th>\n",
              "      <th></th>\n",
              "      <th></th>\n",
              "    </tr>\n",
              "  </thead>\n",
              "  <tbody>\n",
              "    <tr>\n",
              "      <th>8/15/2020</th>\n",
              "      <td>33.44</td>\n",
              "      <td>7.55</td>\n",
              "      <td>7.0</td>\n",
              "      <td>4.14</td>\n",
              "      <td>289.00</td>\n",
              "      <td>0.78</td>\n",
              "      <td>26.00</td>\n",
              "      <td>8.81</td>\n",
              "      <td>Very Good</td>\n",
              "      <td>1</td>\n",
              "      <td>0</td>\n",
              "    </tr>\n",
              "    <tr>\n",
              "      <th>8/15/2020</th>\n",
              "      <td>33.44</td>\n",
              "      <td>7.94</td>\n",
              "      <td>7.0</td>\n",
              "      <td>4.14</td>\n",
              "      <td>291.00</td>\n",
              "      <td>0.79</td>\n",
              "      <td>26.00</td>\n",
              "      <td>8.81</td>\n",
              "      <td>Very Good</td>\n",
              "      <td>1</td>\n",
              "      <td>0</td>\n",
              "    </tr>\n",
              "    <tr>\n",
              "      <th>8/15/2020</th>\n",
              "      <td>33.44</td>\n",
              "      <td>7.88</td>\n",
              "      <td>7.0</td>\n",
              "      <td>4.14</td>\n",
              "      <td>291.00</td>\n",
              "      <td>0.79</td>\n",
              "      <td>26.00</td>\n",
              "      <td>8.81</td>\n",
              "      <td>Very Good</td>\n",
              "      <td>1</td>\n",
              "      <td>0</td>\n",
              "    </tr>\n",
              "    <tr>\n",
              "      <th>8/15/2020</th>\n",
              "      <td>33.44</td>\n",
              "      <td>7.82</td>\n",
              "      <td>7.0</td>\n",
              "      <td>4.14</td>\n",
              "      <td>291.00</td>\n",
              "      <td>0.79</td>\n",
              "      <td>26.00</td>\n",
              "      <td>8.81</td>\n",
              "      <td>Very Good</td>\n",
              "      <td>1</td>\n",
              "      <td>0</td>\n",
              "    </tr>\n",
              "    <tr>\n",
              "      <th>8/15/2020</th>\n",
              "      <td>33.44</td>\n",
              "      <td>8.01</td>\n",
              "      <td>7.0</td>\n",
              "      <td>4.14</td>\n",
              "      <td>289.00</td>\n",
              "      <td>0.78</td>\n",
              "      <td>26.00</td>\n",
              "      <td>8.81</td>\n",
              "      <td>Very Good</td>\n",
              "      <td>1</td>\n",
              "      <td>0</td>\n",
              "    </tr>\n",
              "    <tr>\n",
              "      <th>...</th>\n",
              "      <td>...</td>\n",
              "      <td>...</td>\n",
              "      <td>...</td>\n",
              "      <td>...</td>\n",
              "      <td>...</td>\n",
              "      <td>...</td>\n",
              "      <td>...</td>\n",
              "      <td>...</td>\n",
              "      <td>...</td>\n",
              "      <td>...</td>\n",
              "      <td>...</td>\n",
              "    </tr>\n",
              "    <tr>\n",
              "      <th>8/18/2020</th>\n",
              "      <td>33.57</td>\n",
              "      <td>7.88</td>\n",
              "      <td>7.0</td>\n",
              "      <td>4.14</td>\n",
              "      <td>284.41</td>\n",
              "      <td>0.77</td>\n",
              "      <td>25.78</td>\n",
              "      <td>8.74</td>\n",
              "      <td>Very Good</td>\n",
              "      <td>1</td>\n",
              "      <td>0</td>\n",
              "    </tr>\n",
              "    <tr>\n",
              "      <th>8/18/2020</th>\n",
              "      <td>33.57</td>\n",
              "      <td>7.88</td>\n",
              "      <td>7.0</td>\n",
              "      <td>4.14</td>\n",
              "      <td>284.40</td>\n",
              "      <td>0.77</td>\n",
              "      <td>25.78</td>\n",
              "      <td>8.74</td>\n",
              "      <td>Very Good</td>\n",
              "      <td>1</td>\n",
              "      <td>0</td>\n",
              "    </tr>\n",
              "    <tr>\n",
              "      <th>8/18/2020</th>\n",
              "      <td>33.57</td>\n",
              "      <td>7.88</td>\n",
              "      <td>7.0</td>\n",
              "      <td>4.14</td>\n",
              "      <td>284.40</td>\n",
              "      <td>0.77</td>\n",
              "      <td>25.78</td>\n",
              "      <td>8.74</td>\n",
              "      <td>Very Good</td>\n",
              "      <td>1</td>\n",
              "      <td>0</td>\n",
              "    </tr>\n",
              "    <tr>\n",
              "      <th>8/18/2020</th>\n",
              "      <td>33.57</td>\n",
              "      <td>7.88</td>\n",
              "      <td>7.0</td>\n",
              "      <td>4.14</td>\n",
              "      <td>284.39</td>\n",
              "      <td>0.77</td>\n",
              "      <td>25.78</td>\n",
              "      <td>8.74</td>\n",
              "      <td>Very Good</td>\n",
              "      <td>1</td>\n",
              "      <td>0</td>\n",
              "    </tr>\n",
              "    <tr>\n",
              "      <th>8/18/2020</th>\n",
              "      <td>33.57</td>\n",
              "      <td>7.88</td>\n",
              "      <td>7.0</td>\n",
              "      <td>4.14</td>\n",
              "      <td>284.39</td>\n",
              "      <td>0.77</td>\n",
              "      <td>25.78</td>\n",
              "      <td>8.74</td>\n",
              "      <td>Very Good</td>\n",
              "      <td>1</td>\n",
              "      <td>0</td>\n",
              "    </tr>\n",
              "  </tbody>\n",
              "</table>\n",
              "<p>4707 rows × 11 columns</p>\n",
              "</div>"
            ],
            "text/plain": [
              "           Temperature    pH   DO  ...        WQC  Numeric_WQC  Verdict\n",
              "Date                               ...                                 \n",
              "8/15/2020        33.44  7.55  7.0  ...  Very Good            1        0\n",
              "8/15/2020        33.44  7.94  7.0  ...  Very Good            1        0\n",
              "8/15/2020        33.44  7.88  7.0  ...  Very Good            1        0\n",
              "8/15/2020        33.44  7.82  7.0  ...  Very Good            1        0\n",
              "8/15/2020        33.44  8.01  7.0  ...  Very Good            1        0\n",
              "...                ...   ...  ...  ...        ...          ...      ...\n",
              "8/18/2020        33.57  7.88  7.0  ...  Very Good            1        0\n",
              "8/18/2020        33.57  7.88  7.0  ...  Very Good            1        0\n",
              "8/18/2020        33.57  7.88  7.0  ...  Very Good            1        0\n",
              "8/18/2020        33.57  7.88  7.0  ...  Very Good            1        0\n",
              "8/18/2020        33.57  7.88  7.0  ...  Very Good            1        0\n",
              "\n",
              "[4707 rows x 11 columns]"
            ]
          },
          "metadata": {
            "tags": []
          },
          "execution_count": 6
        }
      ]
    },
    {
      "cell_type": "code",
      "metadata": {
        "colab": {
          "base_uri": "https://localhost:8080/",
          "height": 455
        },
        "id": "H9SKUGisLGZp",
        "outputId": "e3bc17dd-5e8a-4e2a-d5fd-84eebc1c0e33"
      },
      "source": [
        "df2=df1.drop(['WQI','WQC','Verdict'], axis = 1) \r\n",
        "df2"
      ],
      "execution_count": null,
      "outputs": [
        {
          "output_type": "execute_result",
          "data": {
            "text/html": [
              "<div>\n",
              "<style scoped>\n",
              "    .dataframe tbody tr th:only-of-type {\n",
              "        vertical-align: middle;\n",
              "    }\n",
              "\n",
              "    .dataframe tbody tr th {\n",
              "        vertical-align: top;\n",
              "    }\n",
              "\n",
              "    .dataframe thead th {\n",
              "        text-align: right;\n",
              "    }\n",
              "</style>\n",
              "<table border=\"1\" class=\"dataframe\">\n",
              "  <thead>\n",
              "    <tr style=\"text-align: right;\">\n",
              "      <th></th>\n",
              "      <th>Temperature</th>\n",
              "      <th>pH</th>\n",
              "      <th>DO</th>\n",
              "      <th>Turbidity(V)</th>\n",
              "      <th>TDS</th>\n",
              "      <th>EC</th>\n",
              "      <th>Normalised WQI</th>\n",
              "      <th>Numeric_WQC</th>\n",
              "    </tr>\n",
              "    <tr>\n",
              "      <th>Date</th>\n",
              "      <th></th>\n",
              "      <th></th>\n",
              "      <th></th>\n",
              "      <th></th>\n",
              "      <th></th>\n",
              "      <th></th>\n",
              "      <th></th>\n",
              "      <th></th>\n",
              "    </tr>\n",
              "  </thead>\n",
              "  <tbody>\n",
              "    <tr>\n",
              "      <th>8/15/2020</th>\n",
              "      <td>33.44</td>\n",
              "      <td>7.55</td>\n",
              "      <td>7.0</td>\n",
              "      <td>4.14</td>\n",
              "      <td>289.00</td>\n",
              "      <td>0.78</td>\n",
              "      <td>8.81</td>\n",
              "      <td>1</td>\n",
              "    </tr>\n",
              "    <tr>\n",
              "      <th>8/15/2020</th>\n",
              "      <td>33.44</td>\n",
              "      <td>7.94</td>\n",
              "      <td>7.0</td>\n",
              "      <td>4.14</td>\n",
              "      <td>291.00</td>\n",
              "      <td>0.79</td>\n",
              "      <td>8.81</td>\n",
              "      <td>1</td>\n",
              "    </tr>\n",
              "    <tr>\n",
              "      <th>8/15/2020</th>\n",
              "      <td>33.44</td>\n",
              "      <td>7.88</td>\n",
              "      <td>7.0</td>\n",
              "      <td>4.14</td>\n",
              "      <td>291.00</td>\n",
              "      <td>0.79</td>\n",
              "      <td>8.81</td>\n",
              "      <td>1</td>\n",
              "    </tr>\n",
              "    <tr>\n",
              "      <th>8/15/2020</th>\n",
              "      <td>33.44</td>\n",
              "      <td>7.82</td>\n",
              "      <td>7.0</td>\n",
              "      <td>4.14</td>\n",
              "      <td>291.00</td>\n",
              "      <td>0.79</td>\n",
              "      <td>8.81</td>\n",
              "      <td>1</td>\n",
              "    </tr>\n",
              "    <tr>\n",
              "      <th>8/15/2020</th>\n",
              "      <td>33.44</td>\n",
              "      <td>8.01</td>\n",
              "      <td>7.0</td>\n",
              "      <td>4.14</td>\n",
              "      <td>289.00</td>\n",
              "      <td>0.78</td>\n",
              "      <td>8.81</td>\n",
              "      <td>1</td>\n",
              "    </tr>\n",
              "    <tr>\n",
              "      <th>...</th>\n",
              "      <td>...</td>\n",
              "      <td>...</td>\n",
              "      <td>...</td>\n",
              "      <td>...</td>\n",
              "      <td>...</td>\n",
              "      <td>...</td>\n",
              "      <td>...</td>\n",
              "      <td>...</td>\n",
              "    </tr>\n",
              "    <tr>\n",
              "      <th>8/18/2020</th>\n",
              "      <td>33.57</td>\n",
              "      <td>7.88</td>\n",
              "      <td>7.0</td>\n",
              "      <td>4.14</td>\n",
              "      <td>284.41</td>\n",
              "      <td>0.77</td>\n",
              "      <td>8.74</td>\n",
              "      <td>1</td>\n",
              "    </tr>\n",
              "    <tr>\n",
              "      <th>8/18/2020</th>\n",
              "      <td>33.57</td>\n",
              "      <td>7.88</td>\n",
              "      <td>7.0</td>\n",
              "      <td>4.14</td>\n",
              "      <td>284.40</td>\n",
              "      <td>0.77</td>\n",
              "      <td>8.74</td>\n",
              "      <td>1</td>\n",
              "    </tr>\n",
              "    <tr>\n",
              "      <th>8/18/2020</th>\n",
              "      <td>33.57</td>\n",
              "      <td>7.88</td>\n",
              "      <td>7.0</td>\n",
              "      <td>4.14</td>\n",
              "      <td>284.40</td>\n",
              "      <td>0.77</td>\n",
              "      <td>8.74</td>\n",
              "      <td>1</td>\n",
              "    </tr>\n",
              "    <tr>\n",
              "      <th>8/18/2020</th>\n",
              "      <td>33.57</td>\n",
              "      <td>7.88</td>\n",
              "      <td>7.0</td>\n",
              "      <td>4.14</td>\n",
              "      <td>284.39</td>\n",
              "      <td>0.77</td>\n",
              "      <td>8.74</td>\n",
              "      <td>1</td>\n",
              "    </tr>\n",
              "    <tr>\n",
              "      <th>8/18/2020</th>\n",
              "      <td>33.57</td>\n",
              "      <td>7.88</td>\n",
              "      <td>7.0</td>\n",
              "      <td>4.14</td>\n",
              "      <td>284.39</td>\n",
              "      <td>0.77</td>\n",
              "      <td>8.74</td>\n",
              "      <td>1</td>\n",
              "    </tr>\n",
              "  </tbody>\n",
              "</table>\n",
              "<p>4707 rows × 8 columns</p>\n",
              "</div>"
            ],
            "text/plain": [
              "           Temperature    pH   DO  ...    EC  Normalised WQI  Numeric_WQC\n",
              "Date                               ...                                   \n",
              "8/15/2020        33.44  7.55  7.0  ...  0.78            8.81            1\n",
              "8/15/2020        33.44  7.94  7.0  ...  0.79            8.81            1\n",
              "8/15/2020        33.44  7.88  7.0  ...  0.79            8.81            1\n",
              "8/15/2020        33.44  7.82  7.0  ...  0.79            8.81            1\n",
              "8/15/2020        33.44  8.01  7.0  ...  0.78            8.81            1\n",
              "...                ...   ...  ...  ...   ...             ...          ...\n",
              "8/18/2020        33.57  7.88  7.0  ...  0.77            8.74            1\n",
              "8/18/2020        33.57  7.88  7.0  ...  0.77            8.74            1\n",
              "8/18/2020        33.57  7.88  7.0  ...  0.77            8.74            1\n",
              "8/18/2020        33.57  7.88  7.0  ...  0.77            8.74            1\n",
              "8/18/2020        33.57  7.88  7.0  ...  0.77            8.74            1\n",
              "\n",
              "[4707 rows x 8 columns]"
            ]
          },
          "metadata": {
            "tags": []
          },
          "execution_count": 7
        }
      ]
    },
    {
      "cell_type": "code",
      "metadata": {
        "colab": {
          "base_uri": "https://localhost:8080/",
          "height": 455
        },
        "id": "tyfbR7zLNiV5",
        "outputId": "f870c0a0-4832-4f27-9683-fe954f16755a"
      },
      "source": [
        "df_mean = df2.mean()\r\n",
        "df=df2.replace(np.nan, df_mean)\r\n",
        "df"
      ],
      "execution_count": null,
      "outputs": [
        {
          "output_type": "execute_result",
          "data": {
            "text/html": [
              "<div>\n",
              "<style scoped>\n",
              "    .dataframe tbody tr th:only-of-type {\n",
              "        vertical-align: middle;\n",
              "    }\n",
              "\n",
              "    .dataframe tbody tr th {\n",
              "        vertical-align: top;\n",
              "    }\n",
              "\n",
              "    .dataframe thead th {\n",
              "        text-align: right;\n",
              "    }\n",
              "</style>\n",
              "<table border=\"1\" class=\"dataframe\">\n",
              "  <thead>\n",
              "    <tr style=\"text-align: right;\">\n",
              "      <th></th>\n",
              "      <th>Temperature</th>\n",
              "      <th>pH</th>\n",
              "      <th>DO</th>\n",
              "      <th>Turbidity(V)</th>\n",
              "      <th>TDS</th>\n",
              "      <th>EC</th>\n",
              "      <th>Normalised WQI</th>\n",
              "      <th>Numeric_WQC</th>\n",
              "    </tr>\n",
              "    <tr>\n",
              "      <th>Date</th>\n",
              "      <th></th>\n",
              "      <th></th>\n",
              "      <th></th>\n",
              "      <th></th>\n",
              "      <th></th>\n",
              "      <th></th>\n",
              "      <th></th>\n",
              "      <th></th>\n",
              "    </tr>\n",
              "  </thead>\n",
              "  <tbody>\n",
              "    <tr>\n",
              "      <th>8/15/2020</th>\n",
              "      <td>33.44</td>\n",
              "      <td>7.55</td>\n",
              "      <td>7.0</td>\n",
              "      <td>4.14</td>\n",
              "      <td>289.00</td>\n",
              "      <td>0.78</td>\n",
              "      <td>8.81</td>\n",
              "      <td>1</td>\n",
              "    </tr>\n",
              "    <tr>\n",
              "      <th>8/15/2020</th>\n",
              "      <td>33.44</td>\n",
              "      <td>7.94</td>\n",
              "      <td>7.0</td>\n",
              "      <td>4.14</td>\n",
              "      <td>291.00</td>\n",
              "      <td>0.79</td>\n",
              "      <td>8.81</td>\n",
              "      <td>1</td>\n",
              "    </tr>\n",
              "    <tr>\n",
              "      <th>8/15/2020</th>\n",
              "      <td>33.44</td>\n",
              "      <td>7.88</td>\n",
              "      <td>7.0</td>\n",
              "      <td>4.14</td>\n",
              "      <td>291.00</td>\n",
              "      <td>0.79</td>\n",
              "      <td>8.81</td>\n",
              "      <td>1</td>\n",
              "    </tr>\n",
              "    <tr>\n",
              "      <th>8/15/2020</th>\n",
              "      <td>33.44</td>\n",
              "      <td>7.82</td>\n",
              "      <td>7.0</td>\n",
              "      <td>4.14</td>\n",
              "      <td>291.00</td>\n",
              "      <td>0.79</td>\n",
              "      <td>8.81</td>\n",
              "      <td>1</td>\n",
              "    </tr>\n",
              "    <tr>\n",
              "      <th>8/15/2020</th>\n",
              "      <td>33.44</td>\n",
              "      <td>8.01</td>\n",
              "      <td>7.0</td>\n",
              "      <td>4.14</td>\n",
              "      <td>289.00</td>\n",
              "      <td>0.78</td>\n",
              "      <td>8.81</td>\n",
              "      <td>1</td>\n",
              "    </tr>\n",
              "    <tr>\n",
              "      <th>...</th>\n",
              "      <td>...</td>\n",
              "      <td>...</td>\n",
              "      <td>...</td>\n",
              "      <td>...</td>\n",
              "      <td>...</td>\n",
              "      <td>...</td>\n",
              "      <td>...</td>\n",
              "      <td>...</td>\n",
              "    </tr>\n",
              "    <tr>\n",
              "      <th>8/18/2020</th>\n",
              "      <td>33.57</td>\n",
              "      <td>7.88</td>\n",
              "      <td>7.0</td>\n",
              "      <td>4.14</td>\n",
              "      <td>284.41</td>\n",
              "      <td>0.77</td>\n",
              "      <td>8.74</td>\n",
              "      <td>1</td>\n",
              "    </tr>\n",
              "    <tr>\n",
              "      <th>8/18/2020</th>\n",
              "      <td>33.57</td>\n",
              "      <td>7.88</td>\n",
              "      <td>7.0</td>\n",
              "      <td>4.14</td>\n",
              "      <td>284.40</td>\n",
              "      <td>0.77</td>\n",
              "      <td>8.74</td>\n",
              "      <td>1</td>\n",
              "    </tr>\n",
              "    <tr>\n",
              "      <th>8/18/2020</th>\n",
              "      <td>33.57</td>\n",
              "      <td>7.88</td>\n",
              "      <td>7.0</td>\n",
              "      <td>4.14</td>\n",
              "      <td>284.40</td>\n",
              "      <td>0.77</td>\n",
              "      <td>8.74</td>\n",
              "      <td>1</td>\n",
              "    </tr>\n",
              "    <tr>\n",
              "      <th>8/18/2020</th>\n",
              "      <td>33.57</td>\n",
              "      <td>7.88</td>\n",
              "      <td>7.0</td>\n",
              "      <td>4.14</td>\n",
              "      <td>284.39</td>\n",
              "      <td>0.77</td>\n",
              "      <td>8.74</td>\n",
              "      <td>1</td>\n",
              "    </tr>\n",
              "    <tr>\n",
              "      <th>8/18/2020</th>\n",
              "      <td>33.57</td>\n",
              "      <td>7.88</td>\n",
              "      <td>7.0</td>\n",
              "      <td>4.14</td>\n",
              "      <td>284.39</td>\n",
              "      <td>0.77</td>\n",
              "      <td>8.74</td>\n",
              "      <td>1</td>\n",
              "    </tr>\n",
              "  </tbody>\n",
              "</table>\n",
              "<p>4707 rows × 8 columns</p>\n",
              "</div>"
            ],
            "text/plain": [
              "           Temperature    pH   DO  ...    EC  Normalised WQI  Numeric_WQC\n",
              "Date                               ...                                   \n",
              "8/15/2020        33.44  7.55  7.0  ...  0.78            8.81            1\n",
              "8/15/2020        33.44  7.94  7.0  ...  0.79            8.81            1\n",
              "8/15/2020        33.44  7.88  7.0  ...  0.79            8.81            1\n",
              "8/15/2020        33.44  7.82  7.0  ...  0.79            8.81            1\n",
              "8/15/2020        33.44  8.01  7.0  ...  0.78            8.81            1\n",
              "...                ...   ...  ...  ...   ...             ...          ...\n",
              "8/18/2020        33.57  7.88  7.0  ...  0.77            8.74            1\n",
              "8/18/2020        33.57  7.88  7.0  ...  0.77            8.74            1\n",
              "8/18/2020        33.57  7.88  7.0  ...  0.77            8.74            1\n",
              "8/18/2020        33.57  7.88  7.0  ...  0.77            8.74            1\n",
              "8/18/2020        33.57  7.88  7.0  ...  0.77            8.74            1\n",
              "\n",
              "[4707 rows x 8 columns]"
            ]
          },
          "metadata": {
            "tags": []
          },
          "execution_count": 8
        }
      ]
    },
    {
      "cell_type": "code",
      "metadata": {
        "colab": {
          "base_uri": "https://localhost:8080/",
          "height": 300
        },
        "id": "Zeysyn4rpI93",
        "outputId": "5ef004b3-acff-4ea6-95d1-9174f2073a94"
      },
      "source": [
        "df.describe()"
      ],
      "execution_count": null,
      "outputs": [
        {
          "output_type": "execute_result",
          "data": {
            "text/html": [
              "<div>\n",
              "<style scoped>\n",
              "    .dataframe tbody tr th:only-of-type {\n",
              "        vertical-align: middle;\n",
              "    }\n",
              "\n",
              "    .dataframe tbody tr th {\n",
              "        vertical-align: top;\n",
              "    }\n",
              "\n",
              "    .dataframe thead th {\n",
              "        text-align: right;\n",
              "    }\n",
              "</style>\n",
              "<table border=\"1\" class=\"dataframe\">\n",
              "  <thead>\n",
              "    <tr style=\"text-align: right;\">\n",
              "      <th></th>\n",
              "      <th>Temperature</th>\n",
              "      <th>pH</th>\n",
              "      <th>DO</th>\n",
              "      <th>Turbidity(V)</th>\n",
              "      <th>TDS</th>\n",
              "      <th>EC</th>\n",
              "      <th>Normalised WQI</th>\n",
              "      <th>Numeric_WQC</th>\n",
              "    </tr>\n",
              "  </thead>\n",
              "  <tbody>\n",
              "    <tr>\n",
              "      <th>count</th>\n",
              "      <td>4707.000000</td>\n",
              "      <td>4707.000000</td>\n",
              "      <td>4707.000000</td>\n",
              "      <td>4707.000000</td>\n",
              "      <td>4707.000000</td>\n",
              "      <td>4707.00000</td>\n",
              "      <td>4707.000000</td>\n",
              "      <td>4707.000000</td>\n",
              "    </tr>\n",
              "    <tr>\n",
              "      <th>mean</th>\n",
              "      <td>33.731683</td>\n",
              "      <td>8.271721</td>\n",
              "      <td>6.299520</td>\n",
              "      <td>2.624665</td>\n",
              "      <td>1831.927060</td>\n",
              "      <td>2.35815</td>\n",
              "      <td>45.998014</td>\n",
              "      <td>2.304228</td>\n",
              "    </tr>\n",
              "    <tr>\n",
              "      <th>std</th>\n",
              "      <td>22.435371</td>\n",
              "      <td>0.782675</td>\n",
              "      <td>1.572001</td>\n",
              "      <td>1.542296</td>\n",
              "      <td>2780.233338</td>\n",
              "      <td>1.43296</td>\n",
              "      <td>26.400586</td>\n",
              "      <td>0.938204</td>\n",
              "    </tr>\n",
              "    <tr>\n",
              "      <th>min</th>\n",
              "      <td>-127.000000</td>\n",
              "      <td>5.710000</td>\n",
              "      <td>0.000000</td>\n",
              "      <td>0.210000</td>\n",
              "      <td>249.000000</td>\n",
              "      <td>-2.26000</td>\n",
              "      <td>7.800000</td>\n",
              "      <td>1.000000</td>\n",
              "    </tr>\n",
              "    <tr>\n",
              "      <th>25%</th>\n",
              "      <td>33.440000</td>\n",
              "      <td>7.840000</td>\n",
              "      <td>5.000000</td>\n",
              "      <td>0.920000</td>\n",
              "      <td>289.000000</td>\n",
              "      <td>0.78000</td>\n",
              "      <td>14.060000</td>\n",
              "      <td>1.000000</td>\n",
              "    </tr>\n",
              "    <tr>\n",
              "      <th>50%</th>\n",
              "      <td>33.560000</td>\n",
              "      <td>7.940000</td>\n",
              "      <td>7.000000</td>\n",
              "      <td>3.030000</td>\n",
              "      <td>2621.000000</td>\n",
              "      <td>3.33000</td>\n",
              "      <td>53.130000</td>\n",
              "      <td>3.000000</td>\n",
              "    </tr>\n",
              "    <tr>\n",
              "      <th>75%</th>\n",
              "      <td>33.880000</td>\n",
              "      <td>8.480000</td>\n",
              "      <td>7.000000</td>\n",
              "      <td>4.140000</td>\n",
              "      <td>2786.500000</td>\n",
              "      <td>3.49000</td>\n",
              "      <td>67.800000</td>\n",
              "      <td>3.000000</td>\n",
              "    </tr>\n",
              "    <tr>\n",
              "      <th>max</th>\n",
              "      <td>781.000000</td>\n",
              "      <td>11.560000</td>\n",
              "      <td>13.000000</td>\n",
              "      <td>4.140000</td>\n",
              "      <td>64611.000000</td>\n",
              "      <td>31.62000</td>\n",
              "      <td>100.620000</td>\n",
              "      <td>4.000000</td>\n",
              "    </tr>\n",
              "  </tbody>\n",
              "</table>\n",
              "</div>"
            ],
            "text/plain": [
              "       Temperature           pH  ...  Normalised WQI  Numeric_WQC\n",
              "count  4707.000000  4707.000000  ...     4707.000000  4707.000000\n",
              "mean     33.731683     8.271721  ...       45.998014     2.304228\n",
              "std      22.435371     0.782675  ...       26.400586     0.938204\n",
              "min    -127.000000     5.710000  ...        7.800000     1.000000\n",
              "25%      33.440000     7.840000  ...       14.060000     1.000000\n",
              "50%      33.560000     7.940000  ...       53.130000     3.000000\n",
              "75%      33.880000     8.480000  ...       67.800000     3.000000\n",
              "max     781.000000    11.560000  ...      100.620000     4.000000\n",
              "\n",
              "[8 rows x 8 columns]"
            ]
          },
          "metadata": {
            "tags": []
          },
          "execution_count": 9
        }
      ]
    },
    {
      "cell_type": "code",
      "metadata": {
        "colab": {
          "base_uri": "https://localhost:8080/"
        },
        "id": "RBBlstFSpb4i",
        "outputId": "916d0a74-094d-4a3d-f784-65163f0ebbf3"
      },
      "source": [
        "df.info()"
      ],
      "execution_count": null,
      "outputs": [
        {
          "output_type": "stream",
          "text": [
            "<class 'pandas.core.frame.DataFrame'>\n",
            "Index: 4707 entries, 8/15/2020 to 8/18/2020\n",
            "Data columns (total 8 columns):\n",
            " #   Column          Non-Null Count  Dtype  \n",
            "---  ------          --------------  -----  \n",
            " 0   Temperature     4707 non-null   float64\n",
            " 1   pH              4707 non-null   float64\n",
            " 2   DO              4707 non-null   float64\n",
            " 3   Turbidity(V)    4707 non-null   float64\n",
            " 4   TDS             4707 non-null   float64\n",
            " 5   EC              4707 non-null   float64\n",
            " 6   Normalised WQI  4707 non-null   float64\n",
            " 7   Numeric_WQC     4707 non-null   int64  \n",
            "dtypes: float64(7), int64(1)\n",
            "memory usage: 331.0+ KB\n"
          ],
          "name": "stdout"
        }
      ]
    },
    {
      "cell_type": "code",
      "metadata": {
        "id": "_zvo7kgfwRxx",
        "colab": {
          "base_uri": "https://localhost:8080/",
          "height": 455
        },
        "outputId": "c2ab0d5d-1593-4415-b561-5fba65146263"
      },
      "source": [
        "df3=df1.drop(['WQI','WQC','Numeric_WQC'], axis = 1) \r\n",
        "df3"
      ],
      "execution_count": null,
      "outputs": [
        {
          "output_type": "execute_result",
          "data": {
            "text/html": [
              "<div>\n",
              "<style scoped>\n",
              "    .dataframe tbody tr th:only-of-type {\n",
              "        vertical-align: middle;\n",
              "    }\n",
              "\n",
              "    .dataframe tbody tr th {\n",
              "        vertical-align: top;\n",
              "    }\n",
              "\n",
              "    .dataframe thead th {\n",
              "        text-align: right;\n",
              "    }\n",
              "</style>\n",
              "<table border=\"1\" class=\"dataframe\">\n",
              "  <thead>\n",
              "    <tr style=\"text-align: right;\">\n",
              "      <th></th>\n",
              "      <th>Temperature</th>\n",
              "      <th>pH</th>\n",
              "      <th>DO</th>\n",
              "      <th>Turbidity(V)</th>\n",
              "      <th>TDS</th>\n",
              "      <th>EC</th>\n",
              "      <th>Normalised WQI</th>\n",
              "      <th>Verdict</th>\n",
              "    </tr>\n",
              "    <tr>\n",
              "      <th>Date</th>\n",
              "      <th></th>\n",
              "      <th></th>\n",
              "      <th></th>\n",
              "      <th></th>\n",
              "      <th></th>\n",
              "      <th></th>\n",
              "      <th></th>\n",
              "      <th></th>\n",
              "    </tr>\n",
              "  </thead>\n",
              "  <tbody>\n",
              "    <tr>\n",
              "      <th>8/15/2020</th>\n",
              "      <td>33.44</td>\n",
              "      <td>7.55</td>\n",
              "      <td>7.0</td>\n",
              "      <td>4.14</td>\n",
              "      <td>289.00</td>\n",
              "      <td>0.78</td>\n",
              "      <td>8.81</td>\n",
              "      <td>0</td>\n",
              "    </tr>\n",
              "    <tr>\n",
              "      <th>8/15/2020</th>\n",
              "      <td>33.44</td>\n",
              "      <td>7.94</td>\n",
              "      <td>7.0</td>\n",
              "      <td>4.14</td>\n",
              "      <td>291.00</td>\n",
              "      <td>0.79</td>\n",
              "      <td>8.81</td>\n",
              "      <td>0</td>\n",
              "    </tr>\n",
              "    <tr>\n",
              "      <th>8/15/2020</th>\n",
              "      <td>33.44</td>\n",
              "      <td>7.88</td>\n",
              "      <td>7.0</td>\n",
              "      <td>4.14</td>\n",
              "      <td>291.00</td>\n",
              "      <td>0.79</td>\n",
              "      <td>8.81</td>\n",
              "      <td>0</td>\n",
              "    </tr>\n",
              "    <tr>\n",
              "      <th>8/15/2020</th>\n",
              "      <td>33.44</td>\n",
              "      <td>7.82</td>\n",
              "      <td>7.0</td>\n",
              "      <td>4.14</td>\n",
              "      <td>291.00</td>\n",
              "      <td>0.79</td>\n",
              "      <td>8.81</td>\n",
              "      <td>0</td>\n",
              "    </tr>\n",
              "    <tr>\n",
              "      <th>8/15/2020</th>\n",
              "      <td>33.44</td>\n",
              "      <td>8.01</td>\n",
              "      <td>7.0</td>\n",
              "      <td>4.14</td>\n",
              "      <td>289.00</td>\n",
              "      <td>0.78</td>\n",
              "      <td>8.81</td>\n",
              "      <td>0</td>\n",
              "    </tr>\n",
              "    <tr>\n",
              "      <th>...</th>\n",
              "      <td>...</td>\n",
              "      <td>...</td>\n",
              "      <td>...</td>\n",
              "      <td>...</td>\n",
              "      <td>...</td>\n",
              "      <td>...</td>\n",
              "      <td>...</td>\n",
              "      <td>...</td>\n",
              "    </tr>\n",
              "    <tr>\n",
              "      <th>8/18/2020</th>\n",
              "      <td>33.57</td>\n",
              "      <td>7.88</td>\n",
              "      <td>7.0</td>\n",
              "      <td>4.14</td>\n",
              "      <td>284.41</td>\n",
              "      <td>0.77</td>\n",
              "      <td>8.74</td>\n",
              "      <td>0</td>\n",
              "    </tr>\n",
              "    <tr>\n",
              "      <th>8/18/2020</th>\n",
              "      <td>33.57</td>\n",
              "      <td>7.88</td>\n",
              "      <td>7.0</td>\n",
              "      <td>4.14</td>\n",
              "      <td>284.40</td>\n",
              "      <td>0.77</td>\n",
              "      <td>8.74</td>\n",
              "      <td>0</td>\n",
              "    </tr>\n",
              "    <tr>\n",
              "      <th>8/18/2020</th>\n",
              "      <td>33.57</td>\n",
              "      <td>7.88</td>\n",
              "      <td>7.0</td>\n",
              "      <td>4.14</td>\n",
              "      <td>284.40</td>\n",
              "      <td>0.77</td>\n",
              "      <td>8.74</td>\n",
              "      <td>0</td>\n",
              "    </tr>\n",
              "    <tr>\n",
              "      <th>8/18/2020</th>\n",
              "      <td>33.57</td>\n",
              "      <td>7.88</td>\n",
              "      <td>7.0</td>\n",
              "      <td>4.14</td>\n",
              "      <td>284.39</td>\n",
              "      <td>0.77</td>\n",
              "      <td>8.74</td>\n",
              "      <td>0</td>\n",
              "    </tr>\n",
              "    <tr>\n",
              "      <th>8/18/2020</th>\n",
              "      <td>33.57</td>\n",
              "      <td>7.88</td>\n",
              "      <td>7.0</td>\n",
              "      <td>4.14</td>\n",
              "      <td>284.39</td>\n",
              "      <td>0.77</td>\n",
              "      <td>8.74</td>\n",
              "      <td>0</td>\n",
              "    </tr>\n",
              "  </tbody>\n",
              "</table>\n",
              "<p>4707 rows × 8 columns</p>\n",
              "</div>"
            ],
            "text/plain": [
              "           Temperature    pH   DO  ...    EC  Normalised WQI  Verdict\n",
              "Date                               ...                               \n",
              "8/15/2020        33.44  7.55  7.0  ...  0.78            8.81        0\n",
              "8/15/2020        33.44  7.94  7.0  ...  0.79            8.81        0\n",
              "8/15/2020        33.44  7.88  7.0  ...  0.79            8.81        0\n",
              "8/15/2020        33.44  7.82  7.0  ...  0.79            8.81        0\n",
              "8/15/2020        33.44  8.01  7.0  ...  0.78            8.81        0\n",
              "...                ...   ...  ...  ...   ...             ...      ...\n",
              "8/18/2020        33.57  7.88  7.0  ...  0.77            8.74        0\n",
              "8/18/2020        33.57  7.88  7.0  ...  0.77            8.74        0\n",
              "8/18/2020        33.57  7.88  7.0  ...  0.77            8.74        0\n",
              "8/18/2020        33.57  7.88  7.0  ...  0.77            8.74        0\n",
              "8/18/2020        33.57  7.88  7.0  ...  0.77            8.74        0\n",
              "\n",
              "[4707 rows x 8 columns]"
            ]
          },
          "metadata": {
            "tags": []
          },
          "execution_count": 11
        }
      ]
    },
    {
      "cell_type": "code",
      "metadata": {
        "colab": {
          "base_uri": "https://localhost:8080/",
          "height": 455
        },
        "id": "7PZ_h3e3wwDI",
        "outputId": "fe358040-df04-49ea-899c-26290e8ae5b8"
      },
      "source": [
        "df_mean = df3.mean()\r\n",
        "df4=df3.replace(np.nan, df_mean)\r\n",
        "df4"
      ],
      "execution_count": null,
      "outputs": [
        {
          "output_type": "execute_result",
          "data": {
            "text/html": [
              "<div>\n",
              "<style scoped>\n",
              "    .dataframe tbody tr th:only-of-type {\n",
              "        vertical-align: middle;\n",
              "    }\n",
              "\n",
              "    .dataframe tbody tr th {\n",
              "        vertical-align: top;\n",
              "    }\n",
              "\n",
              "    .dataframe thead th {\n",
              "        text-align: right;\n",
              "    }\n",
              "</style>\n",
              "<table border=\"1\" class=\"dataframe\">\n",
              "  <thead>\n",
              "    <tr style=\"text-align: right;\">\n",
              "      <th></th>\n",
              "      <th>Temperature</th>\n",
              "      <th>pH</th>\n",
              "      <th>DO</th>\n",
              "      <th>Turbidity(V)</th>\n",
              "      <th>TDS</th>\n",
              "      <th>EC</th>\n",
              "      <th>Normalised WQI</th>\n",
              "      <th>Verdict</th>\n",
              "    </tr>\n",
              "    <tr>\n",
              "      <th>Date</th>\n",
              "      <th></th>\n",
              "      <th></th>\n",
              "      <th></th>\n",
              "      <th></th>\n",
              "      <th></th>\n",
              "      <th></th>\n",
              "      <th></th>\n",
              "      <th></th>\n",
              "    </tr>\n",
              "  </thead>\n",
              "  <tbody>\n",
              "    <tr>\n",
              "      <th>8/15/2020</th>\n",
              "      <td>33.44</td>\n",
              "      <td>7.55</td>\n",
              "      <td>7.0</td>\n",
              "      <td>4.14</td>\n",
              "      <td>289.00</td>\n",
              "      <td>0.78</td>\n",
              "      <td>8.81</td>\n",
              "      <td>0</td>\n",
              "    </tr>\n",
              "    <tr>\n",
              "      <th>8/15/2020</th>\n",
              "      <td>33.44</td>\n",
              "      <td>7.94</td>\n",
              "      <td>7.0</td>\n",
              "      <td>4.14</td>\n",
              "      <td>291.00</td>\n",
              "      <td>0.79</td>\n",
              "      <td>8.81</td>\n",
              "      <td>0</td>\n",
              "    </tr>\n",
              "    <tr>\n",
              "      <th>8/15/2020</th>\n",
              "      <td>33.44</td>\n",
              "      <td>7.88</td>\n",
              "      <td>7.0</td>\n",
              "      <td>4.14</td>\n",
              "      <td>291.00</td>\n",
              "      <td>0.79</td>\n",
              "      <td>8.81</td>\n",
              "      <td>0</td>\n",
              "    </tr>\n",
              "    <tr>\n",
              "      <th>8/15/2020</th>\n",
              "      <td>33.44</td>\n",
              "      <td>7.82</td>\n",
              "      <td>7.0</td>\n",
              "      <td>4.14</td>\n",
              "      <td>291.00</td>\n",
              "      <td>0.79</td>\n",
              "      <td>8.81</td>\n",
              "      <td>0</td>\n",
              "    </tr>\n",
              "    <tr>\n",
              "      <th>8/15/2020</th>\n",
              "      <td>33.44</td>\n",
              "      <td>8.01</td>\n",
              "      <td>7.0</td>\n",
              "      <td>4.14</td>\n",
              "      <td>289.00</td>\n",
              "      <td>0.78</td>\n",
              "      <td>8.81</td>\n",
              "      <td>0</td>\n",
              "    </tr>\n",
              "    <tr>\n",
              "      <th>...</th>\n",
              "      <td>...</td>\n",
              "      <td>...</td>\n",
              "      <td>...</td>\n",
              "      <td>...</td>\n",
              "      <td>...</td>\n",
              "      <td>...</td>\n",
              "      <td>...</td>\n",
              "      <td>...</td>\n",
              "    </tr>\n",
              "    <tr>\n",
              "      <th>8/18/2020</th>\n",
              "      <td>33.57</td>\n",
              "      <td>7.88</td>\n",
              "      <td>7.0</td>\n",
              "      <td>4.14</td>\n",
              "      <td>284.41</td>\n",
              "      <td>0.77</td>\n",
              "      <td>8.74</td>\n",
              "      <td>0</td>\n",
              "    </tr>\n",
              "    <tr>\n",
              "      <th>8/18/2020</th>\n",
              "      <td>33.57</td>\n",
              "      <td>7.88</td>\n",
              "      <td>7.0</td>\n",
              "      <td>4.14</td>\n",
              "      <td>284.40</td>\n",
              "      <td>0.77</td>\n",
              "      <td>8.74</td>\n",
              "      <td>0</td>\n",
              "    </tr>\n",
              "    <tr>\n",
              "      <th>8/18/2020</th>\n",
              "      <td>33.57</td>\n",
              "      <td>7.88</td>\n",
              "      <td>7.0</td>\n",
              "      <td>4.14</td>\n",
              "      <td>284.40</td>\n",
              "      <td>0.77</td>\n",
              "      <td>8.74</td>\n",
              "      <td>0</td>\n",
              "    </tr>\n",
              "    <tr>\n",
              "      <th>8/18/2020</th>\n",
              "      <td>33.57</td>\n",
              "      <td>7.88</td>\n",
              "      <td>7.0</td>\n",
              "      <td>4.14</td>\n",
              "      <td>284.39</td>\n",
              "      <td>0.77</td>\n",
              "      <td>8.74</td>\n",
              "      <td>0</td>\n",
              "    </tr>\n",
              "    <tr>\n",
              "      <th>8/18/2020</th>\n",
              "      <td>33.57</td>\n",
              "      <td>7.88</td>\n",
              "      <td>7.0</td>\n",
              "      <td>4.14</td>\n",
              "      <td>284.39</td>\n",
              "      <td>0.77</td>\n",
              "      <td>8.74</td>\n",
              "      <td>0</td>\n",
              "    </tr>\n",
              "  </tbody>\n",
              "</table>\n",
              "<p>4707 rows × 8 columns</p>\n",
              "</div>"
            ],
            "text/plain": [
              "           Temperature    pH   DO  ...    EC  Normalised WQI  Verdict\n",
              "Date                               ...                               \n",
              "8/15/2020        33.44  7.55  7.0  ...  0.78            8.81        0\n",
              "8/15/2020        33.44  7.94  7.0  ...  0.79            8.81        0\n",
              "8/15/2020        33.44  7.88  7.0  ...  0.79            8.81        0\n",
              "8/15/2020        33.44  7.82  7.0  ...  0.79            8.81        0\n",
              "8/15/2020        33.44  8.01  7.0  ...  0.78            8.81        0\n",
              "...                ...   ...  ...  ...   ...             ...      ...\n",
              "8/18/2020        33.57  7.88  7.0  ...  0.77            8.74        0\n",
              "8/18/2020        33.57  7.88  7.0  ...  0.77            8.74        0\n",
              "8/18/2020        33.57  7.88  7.0  ...  0.77            8.74        0\n",
              "8/18/2020        33.57  7.88  7.0  ...  0.77            8.74        0\n",
              "8/18/2020        33.57  7.88  7.0  ...  0.77            8.74        0\n",
              "\n",
              "[4707 rows x 8 columns]"
            ]
          },
          "metadata": {
            "tags": []
          },
          "execution_count": 12
        }
      ]
    },
    {
      "cell_type": "code",
      "metadata": {
        "colab": {
          "base_uri": "https://localhost:8080/",
          "height": 601
        },
        "id": "0ILCw6r0peIg",
        "outputId": "92e7ea9b-0f1c-4746-ede7-20b335dd77d3"
      },
      "source": [
        "fig, ax = plt.subplots(ncols=4, nrows=2, figsize=(20,10))\r\n",
        "index = 0\r\n",
        "ax = ax.flatten()\r\n",
        "\r\n",
        "for col, value in df.items():\r\n",
        "    if col != 'Date':\r\n",
        "        sns.boxplot(y=col, data=df, ax=ax[index])\r\n",
        "        index += 1\r\n",
        "plt.tight_layout(pad=0.5, w_pad=0.7, h_pad=5.0)"
      ],
      "execution_count": null,
      "outputs": [
        {
          "output_type": "display_data",
          "data": {
            "image/png": "[encoded data removed]",
            "text/plain": [
              "<Figure size 1440x720 with 8 Axes>"
            ]
          },
          "metadata": {
            "tags": [],
            "needs_background": "light"
          }
        }
      ]
    },
    {
      "cell_type": "code",
      "metadata": {
        "colab": {
          "base_uri": "https://localhost:8080/",
          "height": 461
        },
        "id": "ozmaTZJdqxbR",
        "outputId": "0ca79dc1-77df-4ac4-b8b0-873fc27680bf"
      },
      "source": [
        "plt.figure(figsize=(11,7))\r\n",
        "sns.countplot(df['Numeric_WQC'])"
      ],
      "execution_count": null,
      "outputs": [
        {
          "output_type": "execute_result",
          "data": {
            "text/plain": [
              "<matplotlib.axes._subplots.AxesSubplot at 0x7f816094ce48>"
            ]
          },
          "metadata": {
            "tags": []
          },
          "execution_count": 14
        },
        {
          "output_type": "display_data",
          "data": {
            "image/png": "[encoded data removed]",
            "text/plain": [
              "<Figure size 792x504 with 1 Axes>"
            ]
          },
          "metadata": {
            "tags": [],
            "needs_background": "light"
          }
        }
      ]
    },
    {
      "cell_type": "code",
      "metadata": {
        "colab": {
          "base_uri": "https://localhost:8080/",
          "height": 460
        },
        "id": "j9nedMDtxSWN",
        "outputId": "339c1562-957d-4215-d9f4-6064ee50f5e0"
      },
      "source": [
        "plt.figure(figsize=(11,7))\r\n",
        "sns.countplot(df4['Verdict'])"
      ],
      "execution_count": null,
      "outputs": [
        {
          "output_type": "execute_result",
          "data": {
            "text/plain": [
              "<matplotlib.axes._subplots.AxesSubplot at 0x7f815dad10b8>"
            ]
          },
          "metadata": {
            "tags": []
          },
          "execution_count": 15
        },
        {
          "output_type": "display_data",
          "data": {
            "image/png": "[encoded data removed]",
            "text/plain": [
              "<Figure size 792x504 with 1 Axes>"
            ]
          },
          "metadata": {
            "tags": [],
            "needs_background": "light"
          }
        }
      ]
    },
    {
      "cell_type": "code",
      "metadata": {
        "colab": {
          "base_uri": "https://localhost:8080/",
          "height": 614
        },
        "id": "1GD-_tYtrHJR",
        "outputId": "0d5e7ba1-47dc-46dd-ff9a-26700fbb2bab"
      },
      "source": [
        "corr = df.corr()\r\n",
        "plt.figure(figsize=(20,10))\r\n",
        "sns.heatmap(corr, annot=True, cmap='coolwarm')"
      ],
      "execution_count": null,
      "outputs": [
        {
          "output_type": "execute_result",
          "data": {
            "text/plain": [
              "<matplotlib.axes._subplots.AxesSubplot at 0x7f815dad1c18>"
            ]
          },
          "metadata": {
            "tags": []
          },
          "execution_count": 16
        },
        {
          "output_type": "display_data",
          "data": {
            "image/png": "[encoded data removed]",
            "text/plain": [
              "<Figure size 1440x720 with 2 Axes>"
            ]
          },
          "metadata": {
            "tags": [],
            "needs_background": "light"
          }
        }
      ]
    },
    {
      "cell_type": "code",
      "metadata": {
        "colab": {
          "base_uri": "https://localhost:8080/",
          "height": 387
        },
        "id": "i4DY9M2AZQFQ",
        "outputId": "9f53a487-b3d1-4f01-9fa1-87801d75de25"
      },
      "source": [
        "sns.FacetGrid(df,hue=None,size=5).map(sns.distplot,'Numeric_WQC').add_legend()"
      ],
      "execution_count": null,
      "outputs": [
        {
          "output_type": "execute_result",
          "data": {
            "text/plain": [
              "<seaborn.axisgrid.FacetGrid at 0x7f816094c7f0>"
            ]
          },
          "metadata": {
            "tags": []
          },
          "execution_count": 17
        },
        {
          "output_type": "display_data",
          "data": {
            "image/png": "[encoded data removed]",
            "text/plain": [
              "<Figure size 368x360 with 1 Axes>"
            ]
          },
          "metadata": {
            "tags": [],
            "needs_background": "light"
          }
        }
      ]
    },
    {
      "cell_type": "code",
      "metadata": {
        "id": "u79SPKPQed-z"
      },
      "source": [
        "scaler = StandardScaler()"
      ],
      "execution_count": null,
      "outputs": []
    },
    {
      "cell_type": "code",
      "metadata": {
        "colab": {
          "base_uri": "https://localhost:8080/"
        },
        "id": "xu_nyGYcfkPa",
        "outputId": "574ae6b6-fdfe-4ab5-8a0d-e7e94f56c413"
      },
      "source": [
        "scaler.fit(df.drop('Numeric_WQC',axis=1))"
      ],
      "execution_count": null,
      "outputs": [
        {
          "output_type": "execute_result",
          "data": {
            "text/plain": [
              "StandardScaler(copy=True, with_mean=True, with_std=True)"
            ]
          },
          "metadata": {
            "tags": []
          },
          "execution_count": 19
        }
      ]
    },
    {
      "cell_type": "code",
      "metadata": {
        "id": "8hjFY0TZfnqr"
      },
      "source": [
        "scaled_features = scaler.transform(df.drop('Numeric_WQC',axis=1))"
      ],
      "execution_count": null,
      "outputs": []
    },
    {
      "cell_type": "code",
      "metadata": {
        "colab": {
          "base_uri": "https://localhost:8080/",
          "height": 206
        },
        "id": "4IYMJVs4fqtT",
        "outputId": "2a7b7a99-89ea-404a-f0df-e620dd49fc6e"
      },
      "source": [
        "df_feat = pd.DataFrame(scaled_features,columns=df.columns[:-1])\r\n",
        "df_feat.head()"
      ],
      "execution_count": null,
      "outputs": [
        {
          "output_type": "execute_result",
          "data": {
            "text/html": [
              "<div>\n",
              "<style scoped>\n",
              "    .dataframe tbody tr th:only-of-type {\n",
              "        vertical-align: middle;\n",
              "    }\n",
              "\n",
              "    .dataframe tbody tr th {\n",
              "        vertical-align: top;\n",
              "    }\n",
              "\n",
              "    .dataframe thead th {\n",
              "        text-align: right;\n",
              "    }\n",
              "</style>\n",
              "<table border=\"1\" class=\"dataframe\">\n",
              "  <thead>\n",
              "    <tr style=\"text-align: right;\">\n",
              "      <th></th>\n",
              "      <th>Temperature</th>\n",
              "      <th>pH</th>\n",
              "      <th>DO</th>\n",
              "      <th>Turbidity(V)</th>\n",
              "      <th>TDS</th>\n",
              "      <th>EC</th>\n",
              "      <th>Normalised WQI</th>\n",
              "    </tr>\n",
              "  </thead>\n",
              "  <tbody>\n",
              "    <tr>\n",
              "      <th>0</th>\n",
              "      <td>-0.013002</td>\n",
              "      <td>-0.922219</td>\n",
              "      <td>0.445645</td>\n",
              "      <td>0.982623</td>\n",
              "      <td>-0.555022</td>\n",
              "      <td>-1.101438</td>\n",
              "      <td>-1.408755</td>\n",
              "    </tr>\n",
              "    <tr>\n",
              "      <th>1</th>\n",
              "      <td>-0.013002</td>\n",
              "      <td>-0.423875</td>\n",
              "      <td>0.445645</td>\n",
              "      <td>0.982623</td>\n",
              "      <td>-0.554303</td>\n",
              "      <td>-1.094459</td>\n",
              "      <td>-1.408755</td>\n",
              "    </tr>\n",
              "    <tr>\n",
              "      <th>2</th>\n",
              "      <td>-0.013002</td>\n",
              "      <td>-0.500543</td>\n",
              "      <td>0.445645</td>\n",
              "      <td>0.982623</td>\n",
              "      <td>-0.554303</td>\n",
              "      <td>-1.094459</td>\n",
              "      <td>-1.408755</td>\n",
              "    </tr>\n",
              "    <tr>\n",
              "      <th>3</th>\n",
              "      <td>-0.013002</td>\n",
              "      <td>-0.577211</td>\n",
              "      <td>0.445645</td>\n",
              "      <td>0.982623</td>\n",
              "      <td>-0.554303</td>\n",
              "      <td>-1.094459</td>\n",
              "      <td>-1.408755</td>\n",
              "    </tr>\n",
              "    <tr>\n",
              "      <th>4</th>\n",
              "      <td>-0.013002</td>\n",
              "      <td>-0.334428</td>\n",
              "      <td>0.445645</td>\n",
              "      <td>0.982623</td>\n",
              "      <td>-0.555022</td>\n",
              "      <td>-1.101438</td>\n",
              "      <td>-1.408755</td>\n",
              "    </tr>\n",
              "  </tbody>\n",
              "</table>\n",
              "</div>"
            ],
            "text/plain": [
              "   Temperature        pH        DO  ...       TDS        EC  Normalised WQI\n",
              "0    -0.013002 -0.922219  0.445645  ... -0.555022 -1.101438       -1.408755\n",
              "1    -0.013002 -0.423875  0.445645  ... -0.554303 -1.094459       -1.408755\n",
              "2    -0.013002 -0.500543  0.445645  ... -0.554303 -1.094459       -1.408755\n",
              "3    -0.013002 -0.577211  0.445645  ... -0.554303 -1.094459       -1.408755\n",
              "4    -0.013002 -0.334428  0.445645  ... -0.555022 -1.101438       -1.408755\n",
              "\n",
              "[5 rows x 7 columns]"
            ]
          },
          "metadata": {
            "tags": []
          },
          "execution_count": 21
        }
      ]
    },
    {
      "cell_type": "code",
      "metadata": {
        "id": "_XLnRDq6gA4e"
      },
      "source": [
        "from sklearn.model_selection import train_test_split"
      ],
      "execution_count": null,
      "outputs": []
    },
    {
      "cell_type": "code",
      "metadata": {
        "id": "xzq3gDRFgHBT"
      },
      "source": [
        "from sklearn.neighbors import KNeighborsClassifier\r\n",
        "from sklearn.metrics import classification_report,confusion_matrix"
      ],
      "execution_count": null,
      "outputs": []
    },
    {
      "cell_type": "code",
      "metadata": {
        "id": "qWuRYw7hgB0C"
      },
      "source": [
        "X_train, X_test, y_train, y_test = train_test_split(scaled_features,df['Numeric_WQC'],\r\n",
        "                                                    test_size=0.30)"
      ],
      "execution_count": null,
      "outputs": []
    },
    {
      "cell_type": "code",
      "metadata": {
        "id": "nppVBVmyOaKL"
      },
      "source": [
        "error_rate = []\r\n",
        "\r\n",
        "for i in range(1,30):\r\n",
        "    \r\n",
        "    knn = KNeighborsClassifier(n_neighbors=i)\r\n",
        "    knn.fit(X_train,y_train)\r\n",
        "    pred_i = knn.predict(X_test)\r\n",
        "    error_rate.append(np.mean(pred_i != y_test))"
      ],
      "execution_count": null,
      "outputs": []
    },
    {
      "cell_type": "code",
      "metadata": {
        "colab": {
          "base_uri": "https://localhost:8080/",
          "height": 422
        },
        "id": "YgRXSOPROlUV",
        "outputId": "bd12650d-9e01-4931-bcbe-646b596e4773"
      },
      "source": [
        "plt.figure(figsize=(10,6))\r\n",
        "plt.plot(range(1,30),error_rate,color='blue', linestyle='dashed', marker='o',\r\n",
        "         markerfacecolor='blue', markersize=10)\r\n",
        "plt.title('Error Rate vs. K Value')\r\n",
        "plt.xlabel('K')\r\n",
        "plt.ylabel('Error Rate')"
      ],
      "execution_count": null,
      "outputs": [
        {
          "output_type": "execute_result",
          "data": {
            "text/plain": [
              "Text(0, 0.5, 'Error Rate')"
            ]
          },
          "metadata": {
            "tags": []
          },
          "execution_count": 82
        },
        {
          "output_type": "display_data",
          "data": {
            "image/png": "[encoded data removed]",
            "text/plain": [
              "<Figure size 720x432 with 1 Axes>"
            ]
          },
          "metadata": {
            "tags": [],
            "needs_background": "light"
          }
        }
      ]
    },
    {
      "cell_type": "code",
      "metadata": {
        "id": "swR7tKFMgILc"
      },
      "source": [
        "knn = KNeighborsClassifier(n_neighbors=5)\r\n",
        "knn.fit(X_train,y_train)\r\n",
        "pred = knn.predict(X_test)"
      ],
      "execution_count": null,
      "outputs": []
    },
    {
      "cell_type": "code",
      "metadata": {
        "colab": {
          "base_uri": "https://localhost:8080/"
        },
        "id": "1UOniWvzgai0",
        "outputId": "88521922-69ca-4768-9f7f-b071db274c57"
      },
      "source": [
        "print(confusion_matrix(y_test,pred))\r\n",
        "print(classification_report(y_test,pred))"
      ],
      "execution_count": null,
      "outputs": [
        {
          "output_type": "stream",
          "text": [
            "[[379   2   0   0]\n",
            " [  2 246   9   0]\n",
            " [  0   3 696   0]\n",
            " [  0   0   2  74]]\n",
            "              precision    recall  f1-score   support\n",
            "\n",
            "           1       0.99      0.99      0.99       381\n",
            "           2       0.98      0.96      0.97       257\n",
            "           3       0.98      1.00      0.99       699\n",
            "           4       1.00      0.97      0.99        76\n",
            "\n",
            "    accuracy                           0.99      1413\n",
            "   macro avg       0.99      0.98      0.98      1413\n",
            "weighted avg       0.99      0.99      0.99      1413\n",
            "\n"
          ],
          "name": "stdout"
        }
      ]
    },
    {
      "cell_type": "code",
      "metadata": {
        "id": "nrZDoaY747li"
      },
      "source": [
        "from sklearn.metrics import roc_curve\r\n",
        "from sklearn.metrics import auc"
      ],
      "execution_count": null,
      "outputs": []
    },
    {
      "cell_type": "code",
      "metadata": {
        "colab": {
          "base_uri": "https://localhost:8080/"
        },
        "id": "9Hr8827Uyq5L",
        "outputId": "ab5e0c74-68f9-4f3d-a5c4-a3b47d0fadc5"
      },
      "source": [
        "scaler.fit(df4.drop('Verdict',axis=1))\r\n",
        "df_feat = pd.DataFrame(scaled_features,columns=df.columns[:-1])\r\n",
        "scaled_features = scaler.transform(df4.drop('Verdict',axis=1))\r\n",
        "X_train, X_test, y_train, y_test = train_test_split(scaled_features,df4['Verdict'],\r\n",
        "                                                    test_size=0.30)\r\n",
        "knn = KNeighborsClassifier(n_neighbors=5)\r\n",
        "knn.fit(X_train,y_train)\r\n",
        "pred = knn.predict(X_test)\r\n",
        "print(confusion_matrix(y_test,pred))\r\n",
        "print(classification_report(y_test,pred))"
      ],
      "execution_count": null,
      "outputs": [
        {
          "output_type": "stream",
          "text": [
            "[[669   7]\n",
            " [  8 729]]\n",
            "              precision    recall  f1-score   support\n",
            "\n",
            "           0       0.99      0.99      0.99       676\n",
            "           1       0.99      0.99      0.99       737\n",
            "\n",
            "    accuracy                           0.99      1413\n",
            "   macro avg       0.99      0.99      0.99      1413\n",
            "weighted avg       0.99      0.99      0.99      1413\n",
            "\n"
          ],
          "name": "stdout"
        }
      ]
    },
    {
      "cell_type": "code",
      "metadata": {
        "colab": {
          "base_uri": "https://localhost:8080/",
          "height": 404
        },
        "id": "WiKhNd88zZzm",
        "outputId": "2bb07e37-81ba-4346-938a-31cba452c9bf"
      },
      "source": [
        "fpr, tpr, threshold = roc_curve(y_test, pred)\r\n",
        "roc_auc = auc(fpr, tpr)\r\n",
        "plt.figure(figsize=(10,6))\r\n",
        "plt.plot(fpr, tpr, 'b', label = 'AUC = %0.2f' % roc_auc)\r\n",
        "plt.legend(loc = 'lower right')\r\n",
        "plt.plot([0, 1], [0, 1],'r--')\r\n",
        "plt.xlim([0, 1])\r\n",
        "plt.ylim([0, 1])\r\n",
        "plt.ylabel('True Positive Rate')\r\n",
        "plt.xlabel('False Positive Rate')\r\n",
        "plt.title('ROC Curve of kNN')\r\n",
        "plt.show()"
      ],
      "execution_count": null,
      "outputs": [
        {
          "output_type": "display_data",
          "data": {
            "image/png": "[encoded data removed]",
            "text/plain": [
              "<Figure size 720x432 with 1 Axes>"
            ]
          },
          "metadata": {
            "tags": [],
            "needs_background": "light"
          }
        }
      ]
    },
    {
      "cell_type": "code",
      "metadata": {
        "id": "NJtP4oS5CNC4"
      },
      "source": [
        "X = df4.drop(columns=['Verdict'])\r\n",
        "y = df4['Verdict']"
      ],
      "execution_count": null,
      "outputs": []
    },
    {
      "cell_type": "code",
      "metadata": {
        "colab": {
          "base_uri": "https://localhost:8080/"
        },
        "id": "gOjNwnTeF6Pp",
        "outputId": "4e453d1c-003e-4c9e-86a8-c75cf3b3c243"
      },
      "source": [
        "y.value_counts()"
      ],
      "execution_count": null,
      "outputs": [
        {
          "output_type": "execute_result",
          "data": {
            "text/plain": [
              "1    2547\n",
              "0    2160\n",
              "Name: Verdict, dtype: int64"
            ]
          },
          "metadata": {
            "tags": []
          },
          "execution_count": 35
        }
      ]
    },
    {
      "cell_type": "code",
      "metadata": {
        "id": "TTd8WGZdF8kR"
      },
      "source": [
        "from imblearn.over_sampling import SMOTE\r\n",
        "oversample = SMOTE(k_neighbors=7)\r\n",
        "# transform the dataset\r\n",
        "X, y = oversample.fit_resample(X, y)"
      ],
      "execution_count": null,
      "outputs": []
    },
    {
      "cell_type": "code",
      "metadata": {
        "id": "Mw-rtLBVAcM4"
      },
      "source": [
        "from sklearn.model_selection import cross_val_score\r\n",
        "def classify(model, X, y):\r\n",
        "    x_train, x_test, y_train, y_test = train_test_split(X, y, test_size=0.25, random_state=64)\r\n",
        "    # train the model\r\n",
        "    model.fit(x_train, y_train)\r\n",
        "    print(\"Accuracy:\", model.score(x_test, y_test) * 100)\r\n",
        "    \r\n",
        "    # cross-validation\r\n",
        "    score = cross_val_score(model, X, y, cv=3)\r\n",
        "    print(\"CV Score:\", np.mean(score)*100)"
      ],
      "execution_count": null,
      "outputs": []
    },
    {
      "cell_type": "code",
      "metadata": {
        "colab": {
          "base_uri": "https://localhost:8080/"
        },
        "id": "PhEK3LkLBCoD",
        "outputId": "1253d318-b07c-4f5e-dd05-80debac856b5"
      },
      "source": [
        "from sklearn.linear_model import LogisticRegression\r\n",
        "model = LogisticRegression()\r\n",
        "classify(model, X, y)\r\n"
      ],
      "execution_count": null,
      "outputs": [
        {
          "output_type": "stream",
          "text": [
            "Accuracy: 97.72370486656202\n",
            "CV Score: 95.75971731448763\n"
          ],
          "name": "stdout"
        }
      ]
    },
    {
      "cell_type": "code",
      "metadata": {
        "colab": {
          "base_uri": "https://localhost:8080/"
        },
        "id": "AIO8alHpDYMp",
        "outputId": "e4e5af43-0e5a-4b5c-f42a-caebcb3ff2d0"
      },
      "source": [
        "from sklearn.tree import DecisionTreeClassifier\r\n",
        "model = DecisionTreeClassifier()\r\n",
        "classify(model, X, y)"
      ],
      "execution_count": null,
      "outputs": [
        {
          "output_type": "stream",
          "text": [
            "Accuracy: 100.0\n",
            "CV Score: 100.0\n"
          ],
          "name": "stdout"
        }
      ]
    },
    {
      "cell_type": "code",
      "metadata": {
        "colab": {
          "base_uri": "https://localhost:8080/"
        },
        "id": "eRfK6IadDeSo",
        "outputId": "bc1fc45f-79fe-4a31-fa1b-1ce05a7c0aa4"
      },
      "source": [
        "from sklearn.ensemble import RandomForestClassifier\r\n",
        "model = RandomForestClassifier()\r\n",
        "classify(model, X, y)"
      ],
      "execution_count": null,
      "outputs": [
        {
          "output_type": "stream",
          "text": [
            "Accuracy: 100.0\n",
            "CV Score: 95.21005104043972\n"
          ],
          "name": "stdout"
        }
      ]
    },
    {
      "cell_type": "code",
      "metadata": {
        "colab": {
          "base_uri": "https://localhost:8080/"
        },
        "id": "2F83HIwHD-Ol",
        "outputId": "34f8a1a0-e41f-4d6d-93d0-f5d8e7398de8"
      },
      "source": [
        "import xgboost as xgb\r\n",
        "model = xgb.XGBClassifier()\r\n",
        "classify(model, X, y)"
      ],
      "execution_count": null,
      "outputs": [
        {
          "output_type": "stream",
          "text": [
            "Accuracy: 100.0\n",
            "CV Score: 100.0\n"
          ],
          "name": "stdout"
        }
      ]
    },
    {
      "cell_type": "code",
      "metadata": {
        "id": "A2fk6c8v4Fec"
      },
      "source": [
        "# pred_prob = knn.predict_proba(X_test)\r\n",
        "\r\n",
        "# fpr = {}\r\n",
        "# tpr = {}\r\n",
        "# thresh ={}\r\n",
        "\r\n",
        "# n_class = 4\r\n",
        "\r\n",
        "# for i in range(n_class):    \r\n",
        "#     fpr[i], tpr[i], thresh[i] = roc_curve(y_test, pred_prob[:,i], pos_label=i)\r\n",
        "    \r\n",
        "# # plotting    \r\n",
        "# plt.plot(fpr[0], tpr[0],color='orange', label='Class 1')\r\n",
        "# plt.plot(fpr[1], tpr[1],color='green', label='Class 2')\r\n",
        "# plt.plot(fpr[2], tpr[2],color='blue', label='Class 3')\r\n",
        "# plt.plot(fpr[3], tpr[3],color='black', label='Class 4')\r\n",
        "\r\n",
        "# plt.title('Multiclass ROC curve')\r\n",
        "# plt.xlabel('False Positive Rate')\r\n",
        "# plt.ylabel('True Positive rate')\r\n",
        "# plt.legend(loc='best')"
      ],
      "execution_count": null,
      "outputs": []
    }
  ]
}